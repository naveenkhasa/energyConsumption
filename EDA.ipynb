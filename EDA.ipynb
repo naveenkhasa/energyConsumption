{
 "cells": [
  {
   "cell_type": "markdown",
   "metadata": {},
   "source": [
    "# Introduction\n",
    "\n",
    "I am going to perform time series forecasting with XGBOOST.\n",
    "\n",
    "### Data\n",
    "\n",
    "Data contains over 7 years(2011-12-31 01:00:00 - 2018-01-02 00:00:00) of hourly energy consumption data from ComEd in Megawatts. \n",
    "\n",
    "### Goal\n",
    "\n",
    "1. build a model to predict energy consumption?\n",
    "\n",
    "2. finding trends in energy consumption around hours of the day, holidays, or long term trends?\n",
    "\n",
    "3. understanding how daily trends change depending of the time of year?"
   ]
  },
  {
   "cell_type": "markdown",
   "metadata": {},
   "source": [
    "### 1. Loading libraries"
   ]
  },
  {
   "cell_type": "code",
   "execution_count": null,
   "metadata": {},
   "outputs": [],
   "source": [
    "import numpy as np\n",
    "import pandas as pd\n",
    "import seaborn as sns\n",
    "import matplotlib.pyplot as plt\n",
    "import pandas_profiling as pp\n",
    "import pandas.util.testing as tm\n",
    "from IPython.core.interactiveshell import InteractiveShell\n",
    "InteractiveShell.ast_node_interactivity = \"all\"\n",
    "\n",
    "from sklearn import datasets, linear_model\n",
    "from sklearn.model_selection import train_test_split\n",
    "\n",
    "import xgboost as xgb\n",
    "from xgboost import plot_importance, plot_tree\n",
    "\n",
    "from sklearn.metrics import mean_squared_error, mean_absolute_error, accuracy_score"
   ]
  },
  {
   "cell_type": "markdown",
   "metadata": {},
   "source": [
    "### 2. Reading Data"
   ]
  },
  {
   "cell_type": "code",
   "execution_count": null,
   "metadata": {},
   "outputs": [],
   "source": [
    "df_comEd = pd.read_csv('Data/COMED_hourly.csv', index_col=[0], parse_dates=[0])"
   ]
  },
  {
   "cell_type": "code",
   "execution_count": null,
   "metadata": {
    "scrolled": true
   },
   "outputs": [],
   "source": [
    "# examining the data using pandas_profiling\n",
    "df_comEd.head()\n",
    "pp.ProfileReport(df_comEd)"
   ]
  },
  {
   "cell_type": "markdown",
   "metadata": {},
   "source": [
    "ProfileReport examine the data and provides info, variables, correlations, missing values, statistical analysis and provides head and tail values of the data. \n",
    "\n",
    "There are total of <b>66497 rows</b> with <b>no missing values</b>, <b>no duplicate rows</b>."
   ]
  },
  {
   "cell_type": "code",
   "execution_count": null,
   "metadata": {},
   "outputs": [],
   "source": [
    "# visualisation using plot\n",
    "plot_df_comEd = df_comEd.plot(style='', figsize=(20,5), title='ComEd')"
   ]
  },
  {
   "cell_type": "code",
   "execution_count": null,
   "metadata": {},
   "outputs": [],
   "source": [
    "# creating time series features from date_time to see trends hourly/monthly\n",
    "def create_features(df_comEd):\n",
    "    df = df_comEd.copy()\n",
    "    \n",
    "    df['Date'] = df.index\n",
    "    \n",
    "    df['Hour'] = df['Date'].dt.hour\n",
    "    \n",
    "    df['Day_Of_A_Week'] = df['Date'].dt.dayofweek\n",
    "    df['Day_Of_A_Month'] = df['Date'].dt.day\n",
    "    df['Day_Of_An_Year'] = df['Date'].dt.dayofyear\n",
    "    \n",
    "    df['Month'] = df['Date'].dt.month\n",
    "    df['Quarter'] = df['Date'].dt.quarter\n",
    "    df['Year'] = df['Date'].dt.year\n",
    "    \n",
    "    df['Week_Of_An_Year'] = df['Date'].dt.weekofyear\n",
    "    \n",
    "    X = df[['Hour','Day_Of_A_Week','Day_Of_A_Month','Day_Of_An_Year','Month',\n",
    "           'Quarter','Year','Week_Of_An_Year']]\n",
    "    y = df['COMED_MW']\n",
    "    df_comEd_features = pd.concat([X, y], axis=1)\n",
    "    \n",
    "    return df_comEd_features\n",
    "\n",
    "df_comEd_features = create_features(df_comEd)\n",
    "\n",
    "df_comEd_features.head()\n",
    "pp.ProfileReport(df_comEd_features)"
   ]
  },
  {
   "cell_type": "code",
   "execution_count": null,
   "metadata": {
    "scrolled": true
   },
   "outputs": [],
   "source": [
    "# Seaborn correlation heatmap to gain insight into the data\n",
    "# It shows pearson correlation coefficient for each feature to every other.\n",
    "\n",
    "sns.heatmap(df_comEd_features.corr(),\n",
    "            vmin=-1,\n",
    "            cmap='coolwarm',\n",
    "            annot=True);"
   ]
  },
  {
   "cell_type": "code",
   "execution_count": null,
   "metadata": {},
   "outputs": [],
   "source": [
    "# plotting a diagonal crrelation matrix\n",
    "\n",
    "sns.set(style=\"white\")\n",
    "\n",
    "# Compute the correlation matrix\n",
    "corr = df_comEd_features.corr()\n",
    "\n",
    "# Generate a mask for the upper triangle\n",
    "mask = np.triu(np.ones_like(corr, dtype=np.bool))\n",
    "\n",
    "# Set up the matplotlib figure\n",
    "f, ax = plt.subplots(figsize=(11, 9))\n",
    "\n",
    "# Generate a custom diverging colormap\n",
    "cmap = sns.diverging_palette(220, 10, as_cmap=True)\n",
    "\n",
    "# Draw the heatmap with the mask and correct aspect ratio\n",
    "sns.heatmap(corr, mask=mask, cmap=cmap, vmax=1, center=0,\n",
    "            square=True, linewidths=.5, cbar_kws={\"shrink\": .5}, annot=True)"
   ]
  },
  {
   "cell_type": "markdown",
   "metadata": {},
   "source": [
    "A postive medium correation between COMED_MW and Hour and \n",
    "A negative small correlation between COMED_MW and other features"
   ]
  },
  {
   "cell_type": "code",
   "execution_count": null,
   "metadata": {},
   "outputs": [],
   "source": [
    "# plot the features to see the trend\n",
    "import matplotlib.pyplot as plt \n",
    "sns.pairplot(df_comEd_features.dropna(),\n",
    "             hue='Hour',\n",
    "             x_vars=['Hour'],\n",
    "             y_vars='COMED_MW',\n",
    "             height=15,\n",
    "             plot_kws={'alpha':0.15, 'linewidth':0}\n",
    "            )\n",
    "plt.suptitle('Power Usage in MW by Hour')\n",
    "plt.show()"
   ]
  },
  {
   "cell_type": "code",
   "execution_count": null,
   "metadata": {},
   "outputs": [],
   "source": [
    "# plot the features to see the trend\n",
    "import matplotlib.pyplot as plt \n",
    "sns.pairplot(df_comEd_features.dropna(),\n",
    "             hue='Hour',\n",
    "             x_vars=['Day_Of_A_Week','Day_Of_A_Month',\n",
    "                     'Day_Of_An_Year','Week_Of_An_Year'],\n",
    "             y_vars='COMED_MW',\n",
    "             height=5,\n",
    "             plot_kws={'alpha':0.15, 'linewidth':0}\n",
    "            )\n",
    "plt.suptitle('Power Usage in MW')\n",
    "plt.show()"
   ]
  },
  {
   "cell_type": "code",
   "execution_count": null,
   "metadata": {},
   "outputs": [],
   "source": [
    "# plot the features to see the trend \n",
    "sns.pairplot(df_comEd_features.dropna(),\n",
    "             hue='Hour',\n",
    "             x_vars=['Month','Quarter',\n",
    "                     'Year'],\n",
    "             y_vars='COMED_MW',\n",
    "             height=5,\n",
    "             plot_kws={'alpha':0.15, 'linewidth':0}\n",
    "            )\n",
    "plt.suptitle('Power Usage in MW')\n",
    "plt.show()"
   ]
  },
  {
   "cell_type": "code",
   "execution_count": null,
   "metadata": {},
   "outputs": [],
   "source": [
    "#creating features and Label df_comEd_features\n",
    "\n",
    "X = df_comEd_features[['Hour','Day_Of_A_Week','Day_Of_A_Month','Day_Of_An_Year','Month',\n",
    "           'Quarter','Year','Week_Of_An_Year']]\n",
    "\n",
    "y = df_comEd_features[['COMED_MW']]\n",
    "\n",
    "# Splitting ComEd Dataset into training and test data\n",
    "\n",
    "split_date = '31-Dec-2015'\n",
    "\n",
    "X_train = X.loc[X.index <= split_date].copy()\n",
    "X_test = X.loc[X.index > split_date].copy()\n",
    "\n",
    "y_train = y.loc[y.index <= split_date].copy()\n",
    "y_test = y.loc[y.index > split_date].copy()\n",
    "\n",
    "train_comEd = pd.concat([X_train, y_train], axis=1)\n",
    "train_comEd.head()\n",
    "train_comEd.shape\n",
    "\n",
    "test_comEd = pd.concat([X_test, y_test], axis=1)\n",
    "test_comEd.head()\n",
    "test_comEd.shape\n",
    "\n",
    "pp.ProfileReport(X_train)\n",
    "pp.ProfileReport(X_test)\n",
    "pp.ProfileReport(y_train)\n",
    "pp.ProfileReport(y_test)"
   ]
  },
  {
   "cell_type": "code",
   "execution_count": null,
   "metadata": {},
   "outputs": [],
   "source": [
    "# creating XGboost model\n",
    "\n",
    "xgBoost_comEd = xgb.XGBRegressor(n_estimators=1000)\n",
    "\n",
    "xgBoost_comEd.fit(X_train, y_train, \n",
    "                  eval_set=[(X_train, y_train), (X_test, y_test)],\n",
    "                  early_stopping_rounds=50,\n",
    "                  verbose=True)"
   ]
  },
  {
   "cell_type": "code",
   "execution_count": null,
   "metadata": {
    "scrolled": true
   },
   "outputs": [],
   "source": [
    "# Feature Importance metric\n",
    "\n",
    "# It gives on which features the model is mostly relying on to make the predictions\n",
    "# the metric that simplifies who sums up how many times each feature is split on. \n",
    "\n",
    "plot_importance(xgBoost_comEd, height = 1)\n"
   ]
  },
  {
   "cell_type": "code",
   "execution_count": null,
   "metadata": {},
   "outputs": [],
   "source": [
    "# Predicting\n",
    "\n",
    "# Forecast on test set\n",
    "\n",
    "y_test['COMED_MW_PREDICTION'] = xgBoost_comEd.predict(X_test)\n",
    "y_predict_comEd = pd.concat([y_test, y_train], sort=False)\n",
    "\n",
    "y_predict_comEd.head()\n",
    "y_predict_comEd[['COMED_MW', 'COMED_MW_PREDICTION']].plot(figsize=(20,10))"
   ]
  },
  {
   "cell_type": "code",
   "execution_count": null,
   "metadata": {},
   "outputs": [],
   "source": [
    "# plot the forecast for the year of 2017 with th actual\n",
    "\n",
    "fig, ax = plt.subplots(1)\n",
    "fig.set_figheight(10)\n",
    "fig.set_figwidth(15)\n",
    "\n",
    "y_predict_comEd[['COMED_MW_PREDICTION', 'COMED_MW']].plot(ax=ax, style=['-','.'])\n",
    "ax.set_xbound(lower='01-01-2017', upper='12-31-2017')\n",
    "ax.set_ylim(5000, 25000)\n",
    "plot = plt.suptitle('year 2017 Forecast v Actuals')"
   ]
  },
  {
   "cell_type": "code",
   "execution_count": null,
   "metadata": {},
   "outputs": [],
   "source": [
    "# plot the forecast for the year of 2018 with th actual\n",
    "\n",
    "fig, ax = plt.subplots(1)\n",
    "fig.set_figheight(10)\n",
    "fig.set_figwidth(15)\n",
    "\n",
    "y_predict_comEd[['COMED_MW_PREDICTION', 'COMED_MW']].plot(ax=ax, style=['-','.'])\n",
    "ax.set_xbound(lower='01-01-2018', upper='08-31-2018')\n",
    "ax.set_ylim(5000, 25000)\n",
    "plot = plt.suptitle('year 2018 Forecast v Actuals')"
   ]
  },
  {
   "cell_type": "code",
   "execution_count": null,
   "metadata": {},
   "outputs": [],
   "source": [
    "# plot the forecast for the period of Jan,2017 to May,2017 with the actual\n",
    "\n",
    "fig, ax = plt.subplots(1)\n",
    "fig.set_figheight(10)\n",
    "fig.set_figwidth(15)\n",
    "\n",
    "y_predict_comEd[['COMED_MW_PREDICTION', 'COMED_MW']].plot(ax=ax, style=['-','.'])\n",
    "ax.set_xbound(lower='01-01-2017', upper='05-31-2017')\n",
    "ax.set_ylim(5000, 25000)\n",
    "plot = plt.suptitle('Period Jan,2017 - May, 2017 Forecast v Actuals')"
   ]
  },
  {
   "cell_type": "code",
   "execution_count": null,
   "metadata": {},
   "outputs": [],
   "source": [
    "# plot the forecast for the period of June,2017 to Sep,2017 with the actual\n",
    "\n",
    "fig, ax = plt.subplots(1)\n",
    "fig.set_figheight(10)\n",
    "fig.set_figwidth(15)\n",
    "\n",
    "y_predict_comEd[['COMED_MW_PREDICTION', 'COMED_MW']].plot(ax=ax, style=['-','.'])\n",
    "ax.set_xbound(lower='06-01-2017', upper='09-30-2017')\n",
    "ax.set_ylim(5000, 25000)\n",
    "plot = plt.suptitle('Period Jun,2017 - Sep,2017 Forecast v Actuals')"
   ]
  },
  {
   "cell_type": "code",
   "execution_count": null,
   "metadata": {},
   "outputs": [],
   "source": []
  },
  {
   "cell_type": "code",
   "execution_count": null,
   "metadata": {},
   "outputs": [],
   "source": []
  },
  {
   "cell_type": "code",
   "execution_count": null,
   "metadata": {},
   "outputs": [],
   "source": []
  },
  {
   "cell_type": "code",
   "execution_count": null,
   "metadata": {},
   "outputs": [],
   "source": []
  },
  {
   "cell_type": "code",
   "execution_count": null,
   "metadata": {},
   "outputs": [],
   "source": []
  },
  {
   "cell_type": "code",
   "execution_count": null,
   "metadata": {},
   "outputs": [],
   "source": []
  },
  {
   "cell_type": "code",
   "execution_count": null,
   "metadata": {},
   "outputs": [],
   "source": []
  },
  {
   "cell_type": "code",
   "execution_count": null,
   "metadata": {},
   "outputs": [],
   "source": []
  },
  {
   "cell_type": "code",
   "execution_count": null,
   "metadata": {},
   "outputs": [],
   "source": [
    "# Model evaluation Error metrics \n",
    "\n",
    "MSE = mean_squared_error(y_true=y_test['COMED_MW'],\n",
    "                         y_pred=y_test['COMED_MW_PREDICTION'])\n",
    "print(\"Mean Squared Error: \", MSE)\n",
    "\n",
    "\n",
    "MAE = mean_absolute_error(y_true=y_test['COMED_MW'],\n",
    "                   y_pred=y_test['COMED_MW_PREDICTION'])\n",
    "print(\"Mean Absolute Error: \", MAE)\n",
    "\n",
    "\n",
    "def mean_absolute_percentage_error(y_true, y_pred): \n",
    "    \"\"\"Calculates MAPE given y_true and y_pred\"\"\"\n",
    "    y_true, y_pred = np.array(y_true), np.array(y_pred)\n",
    "    \n",
    "    return np.mean(np.abs((y_true - y_pred) / y_true)) * 100\n",
    "\n",
    "MAPE = mean_absolute_percentage_error(y_true=y_test['COMED_MW'],\n",
    "                   y_pred=y_test['COMED_MW_PREDICTION'])\n",
    "print(\"Mean Absolute Percentage Error: \", MAPE)"
   ]
  },
  {
   "cell_type": "code",
   "execution_count": null,
   "metadata": {},
   "outputs": [],
   "source": []
  },
  {
   "cell_type": "code",
   "execution_count": null,
   "metadata": {},
   "outputs": [],
   "source": [
    "# Worst and bad predicted days\n",
    "\n"
   ]
  },
  {
   "cell_type": "code",
   "execution_count": null,
   "metadata": {},
   "outputs": [],
   "source": []
  },
  {
   "cell_type": "code",
   "execution_count": null,
   "metadata": {},
   "outputs": [],
   "source": []
  },
  {
   "cell_type": "code",
   "execution_count": null,
   "metadata": {},
   "outputs": [],
   "source": []
  }
 ],
 "metadata": {
  "kernelspec": {
   "display_name": "Python 3",
   "language": "python",
   "name": "python3"
  },
  "language_info": {
   "codemirror_mode": {
    "name": "ipython",
    "version": 3
   },
   "file_extension": ".py",
   "mimetype": "text/x-python",
   "name": "python",
   "nbconvert_exporter": "python",
   "pygments_lexer": "ipython3",
   "version": "3.7.4"
  }
 },
 "nbformat": 4,
 "nbformat_minor": 2
}
